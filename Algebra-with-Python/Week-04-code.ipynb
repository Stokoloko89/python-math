{
  "cells": [
    {
      "attachments": {},
      "cell_type": "markdown",
      "metadata": {
        "colab_type": "text",
        "id": "view-in-github"
      },
      "source": [
        "<a href=\"https://colab.research.google.com/github/edatfreecodecamp/python-math/blob/main/Algebra-with-Python/Week-04-code.ipynb\" target=\"_parent\"><img src=\"https://colab.research.google.com/assets/colab-badge.svg\" alt=\"Open In Colab\"/></a>"
      ]
    },
    {
      "attachments": {},
      "cell_type": "markdown",
      "metadata": {
        "id": "EJWEoaa46XM6"
      },
      "source": [
        "Function and a table of (x,y) values"
      ]
    },
    {
      "cell_type": "code",
      "execution_count": 14,
      "metadata": {
        "colab": {
          "base_uri": "https://localhost:8080/"
        },
        "id": "CgYgZ_bX6V24",
        "outputId": "c94d12fa-aef6-4339-bf3e-bc9e60a3bd99"
      },
      "outputs": [
        {
          "name": "stdout",
          "output_type": "stream",
          "text": [
            "x \t y\n",
            "0 \t 3\n",
            "1 \t 7\n",
            "2 \t 11\n",
            "3 \t 15\n",
            "4 \t 19\n",
            "5 \t 23\n",
            "6 \t 27\n",
            "7 \t 31\n",
            "8 \t 35\n",
            "9 \t 39\n",
            "10 \t 43\n"
          ]
        },
        {
          "data": {
            "text/plain": [
              "[None, None, None, None, None, None, None, None, None, None, None]"
            ]
          },
          "execution_count": 14,
          "metadata": {},
          "output_type": "execute_result"
        }
      ],
      "source": [
        "x = 5\n",
        "y = 4*x + 3 # The function \n",
        "\n",
        "# print(x,\",\",y)\n",
        "\n",
        "print(\"x \\t y\") \n",
        "\n",
        "# for x in range(11):\n",
        "#     y = 4*x + 3  # The function\n",
        "#     print(x, \"\\t\", y)\n",
        "\n",
        "[print( x, \"\\t\", 4*x + 3) for x in range(11)]\n"
      ]
    },
    {
      "attachments": {},
      "cell_type": "markdown",
      "metadata": {
        "id": "ngdxkyY5sj79"
      },
      "source": [
        "Defning a Python function"
      ]
    },
    {
      "cell_type": "code",
      "execution_count": 16,
      "metadata": {
        "colab": {
          "base_uri": "https://localhost:8080/"
        },
        "id": "pimaql3Wsnkz",
        "outputId": "a70e089f-eccb-4384-8794-ab59c8854867"
      },
      "outputs": [
        {
          "name": "stdout",
          "output_type": "stream",
          "text": [
            "5 , 23\n",
            "0 \t 3\n",
            "1 \t 7\n",
            "2 \t 11\n",
            "3 \t 15\n",
            "4 \t 19\n",
            "5 \t 23\n",
            "6 \t 27\n",
            "7 \t 31\n",
            "8 \t 35\n",
            "9 \t 39\n",
            "10 \t 43\n"
          ]
        }
      ],
      "source": [
        "def f(x):\n",
        "   y = 4*x + 3\n",
        "   return y\n",
        "\n",
        "print(5, \",\", f(5)) \n",
        "\n",
        "# Next, a loop\n",
        "for x in range(11):\n",
        "    print(x, \"\\t\", f(x)) "
      ]
    },
    {
      "attachments": {},
      "cell_type": "markdown",
      "metadata": {
        "id": "qnLORdwYqzzB"
      },
      "source": [
        "<br>\n",
        "<br>\n",
        "<br>\n",
        "Next we will look a graphing functions...\n",
        "<br>\n",
        "<br>\n",
        "<br>"
      ]
    },
    {
      "attachments": {},
      "cell_type": "markdown",
      "metadata": {
        "id": "rYuehQvzp_uq"
      },
      "source": [
        "Basic blank graph"
      ]
    },
    {
      "cell_type": "code",
      "execution_count": 35,
      "metadata": {
        "colab": {
          "base_uri": "https://localhost:8080/",
          "height": 269
        },
        "id": "f99FK6TVpM9d",
        "outputId": "82be59cb-fec7-473a-f0cd-61344d4c8276"
      },
      "outputs": [
        {
          "data": {
            "image/png": "[encoded data removed]",
            "text/plain": [
              "<Figure size 432x288 with 1 Axes>"
            ]
          },
          "metadata": {},
          "output_type": "display_data"
        }
      ],
      "source": [
        "import matplotlib.pyplot as plt\n",
        "import seaborn as sns\n",
        "\n",
        "# remove grid lines (dotted lines inside plot)\n",
        "sns.set(style=\"white\")\n",
        "\n",
        "fig, ax = plt.subplots()\n",
        "plt.show()\n",
        "\n",
        "# set the background color of the plot to white"
      ]
    },
    {
      "attachments": {},
      "cell_type": "markdown",
      "metadata": {
        "id": "KnxUvW6vqQX6"
      },
      "source": [
        "Define dimensions of graph"
      ]
    },
    {
      "cell_type": "code",
      "execution_count": 36,
      "metadata": {
        "colab": {
          "base_uri": "https://localhost:8080/",
          "height": 269
        },
        "id": "b__2RYX3qEI2",
        "outputId": "d09e189c-424d-42a8-d092-ded507507098"
      },
      "outputs": [
        {
          "data": {
            "image/png": "[encoded data removed]",
            "text/plain": [
              "<Figure size 432x288 with 1 Axes>"
            ]
          },
          "metadata": {},
          "output_type": "display_data"
        }
      ],
      "source": [
        "import matplotlib.pyplot as plt\n",
        "\n",
        "fig, ax = plt.subplots()\n",
        "\n",
        "# Dimensions\n",
        "plt.axis([-10,10,-10,10]) \n",
        "\n",
        "plt.show()\n"
      ]
    },
    {
      "attachments": {},
      "cell_type": "markdown",
      "metadata": {
        "id": "Ks1e5Rh5qcDQ"
      },
      "source": [
        "A better way to set dimensions"
      ]
    },
    {
      "cell_type": "code",
      "execution_count": 37,
      "metadata": {
        "colab": {
          "base_uri": "https://localhost:8080/",
          "height": 269
        },
        "id": "J_V3UffyqaS6",
        "outputId": "401b0e70-6578-4a95-b53e-ec0bce578599"
      },
      "outputs": [
        {
          "data": {
            "image/png": "[encoded data removed]",
            "text/plain": [
              "<Figure size 432x288 with 1 Axes>"
            ]
          },
          "metadata": {},
          "output_type": "display_data"
        }
      ],
      "source": [
        "import matplotlib.pyplot as plt\n",
        "\n",
        "xmin = -10\n",
        "xmax = 10\n",
        "ymin = -10\n",
        "ymax = 20\n",
        "\n",
        "fig, ax = plt.subplots()\n",
        "plt.axis([xmin,xmax,ymin,ymax]) # window size\n",
        "plt.show()\n"
      ]
    },
    {
      "attachments": {},
      "cell_type": "markdown",
      "metadata": {
        "id": "NTePeZTOqpYB"
      },
      "source": [
        "Display axis lines"
      ]
    },
    {
      "cell_type": "code",
      "execution_count": 38,
      "metadata": {
        "colab": {
          "base_uri": "https://localhost:8080/",
          "height": 269
        },
        "id": "QRUF6vE1qn7Z",
        "outputId": "fbaf4506-cbc9-462f-ab10-5e581e0317c0"
      },
      "outputs": [
        {
          "data": {
            "image/png": "[encoded data removed]",
            "text/plain": [
              "<Figure size 432x288 with 1 Axes>"
            ]
          },
          "metadata": {},
          "output_type": "display_data"
        }
      ],
      "source": [
        "import matplotlib.pyplot as plt\n",
        "\n",
        "xmin = -10\n",
        "xmax = 10\n",
        "ymin = -10\n",
        "ymax = 10\n",
        "\n",
        "fig, ax = plt.subplots()\n",
        "plt.axis([xmin,xmax,ymin,ymax]) # window size\n",
        "plt.plot([xmin,xmax],[0,0],'b') # blue x axis\n",
        "plt.plot([0,0],[ymin,ymax], 'b') # blue y axis\n",
        "\n",
        "plt.show()\n"
      ]
    },
    {
      "attachments": {},
      "cell_type": "markdown",
      "metadata": {
        "id": "PixodkBKq6uR"
      },
      "source": [
        "Plot one point"
      ]
    },
    {
      "cell_type": "code",
      "execution_count": 39,
      "metadata": {
        "colab": {
          "base_uri": "https://localhost:8080/",
          "height": 269
        },
        "id": "3wBcQwCYq5bp",
        "outputId": "51d1ab83-ba40-45c7-91fd-9daa4570a7d1"
      },
      "outputs": [
        {
          "data": {
            "image/png": "[encoded data removed]",
            "text/plain": [
              "<Figure size 432x288 with 1 Axes>"
            ]
          },
          "metadata": {},
          "output_type": "display_data"
        }
      ],
      "source": [
        "import matplotlib.pyplot as plt\n",
        "\n",
        "xmin = -10\n",
        "xmax = 10\n",
        "ymin = -10\n",
        "ymax = 10\n",
        "\n",
        "fig, ax = plt.subplots()\n",
        "plt.axis([xmin,xmax,ymin,ymax]) # window size\n",
        "plt.plot([xmin,xmax],[0,0],'b') # blue x axis\n",
        "plt.plot([0,0],[ymin,ymax], 'b') # blue y axis\n",
        "\n",
        "\n",
        "plt.plot([5],[4], 'ro')\n",
        "\n",
        "plt.show()\n"
      ]
    },
    {
      "attachments": {},
      "cell_type": "markdown",
      "metadata": {
        "id": "bBe5zGMorESi"
      },
      "source": [
        "Plot several points as a function"
      ]
    },
    {
      "cell_type": "code",
      "execution_count": 40,
      "metadata": {
        "colab": {
          "base_uri": "https://localhost:8080/",
          "height": 269
        },
        "id": "Xt1z3DcUrCR5",
        "outputId": "f118ca3e-03da-43bf-dfb1-4272c7cf0af2"
      },
      "outputs": [
        {
          "data": {
            "image/png": "[encoded data removed]",
            "text/plain": [
              "<Figure size 432x288 with 1 Axes>"
            ]
          },
          "metadata": {},
          "output_type": "display_data"
        }
      ],
      "source": [
        "import matplotlib.pyplot as plt\n",
        "\n",
        "xmin = -10\n",
        "xmax = 10\n",
        "ymin = -10\n",
        "ymax = 10\n",
        "\n",
        "fig, ax = plt.subplots()\n",
        "plt.axis([xmin,xmax,ymin,ymax]) # window size\n",
        "plt.plot([xmin,xmax],[0,0],'b') # blue x axis\n",
        "plt.plot([0,0],[ymin,ymax], 'b') # blue y axis\n",
        "\n",
        "for x in range(10):\n",
        "    y = 0.5*x + 1\n",
        "    plt.plot([x],[y], 'ro')\n",
        "\n",
        "plt.show()\n"
      ]
    },
    {
      "attachments": {},
      "cell_type": "markdown",
      "metadata": {
        "id": "8IyMfHlGsVaL"
      },
      "source": [
        "Graph and table of (x,y) values"
      ]
    },
    {
      "cell_type": "code",
      "execution_count": 45,
      "metadata": {
        "id": "wyhHcBr2sTqb"
      },
      "outputs": [
        {
          "name": "stdout",
          "output_type": "stream",
          "text": [
            "x \t y\n",
            "-10 \t -4.0\n",
            "-9 \t -3.5\n",
            "-8 \t -3.0\n",
            "-7 \t -2.5\n",
            "-6 \t -2.0\n",
            "-5 \t -1.5\n",
            "-4 \t -1.0\n",
            "-3 \t -0.5\n",
            "-2 \t 0.0\n",
            "-1 \t 0.5\n",
            "0 \t 1.0\n",
            "1 \t 1.5\n",
            "2 \t 2.0\n",
            "3 \t 2.5\n",
            "4 \t 3.0\n",
            "5 \t 3.5\n",
            "6 \t 4.0\n",
            "7 \t 4.5\n",
            "8 \t 5.0\n",
            "9 \t 5.5\n",
            "10 \t 6.0\n"
          ]
        },
        {
          "data": {
            "image/png": "[encoded data removed]",
            "text/plain": [
              "<Figure size 432x288 with 1 Axes>"
            ]
          },
          "metadata": {},
          "output_type": "display_data"
        }
      ],
      "source": [
        "import matplotlib.pyplot as plt\n",
        "\n",
        "xmin = -10\n",
        "xmax = 10\n",
        "ymin = -10\n",
        "ymax = 10\n",
        "\n",
        "fig, ax = plt.subplots()\n",
        "plt.axis([xmin,xmax,ymin,ymax]) # window size\n",
        "plt.plot([xmin,xmax],[0,0],'b') # blue x axis\n",
        "plt.plot([0,0],[ymin,ymax], 'b') # blue y axis\n",
        "\n",
        "print(\"x \\t y\")\n",
        "for x in range(xmin, xmax+1):\n",
        "    y = 0.5*x + 1\n",
        "    plt.plot([x],[y], 'ro')\n",
        "    print(x,\"\\t\",y)\n",
        "\n",
        "plt.show()\n"
      ]
    },
    {
      "cell_type": "code",
      "execution_count": null,
      "metadata": {
        "id": "dD6tAMt3sopi"
      },
      "outputs": [],
      "source": []
    }
  ],
  "metadata": {
    "colab": {
      "authorship_tag": "ABX9TyOaj6B4erJgUbIFkJWSyvfA",
      "collapsed_sections": [],
      "include_colab_link": true,
      "name": "Week_04 - functions and graphing.ipynb",
      "provenance": []
    },
    "kernelspec": {
      "display_name": "Python 3",
      "name": "python3"
    },
    "language_info": {
      "name": "python",
      "version": "3.8.10"
    }
  },
  "nbformat": 4,
  "nbformat_minor": 0
}
