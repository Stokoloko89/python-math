{
  "cells": [
    {
      "cell_type": "markdown",
      "metadata": {
        "colab_type": "text",
        "id": "view-in-github"
      },
      "source": [
        "<a href=\"https://colab.research.google.com/github/edatfreecodecamp/python-math/blob/main/Algebra-with-Python/Week-05-code.ipynb\" target=\"_parent\"><img src=\"https://colab.research.google.com/assets/colab-badge.svg\" alt=\"Open In Colab\"/></a>"
      ]
    },
    {
      "cell_type": "code",
      "execution_count": 1,
      "metadata": {
        "id": "2-ceeTFP6aQ7"
      },
      "outputs": [
        {
          "name": "stdout",
          "output_type": "stream",
          "text": [
            "slope =  3.0\n"
          ]
        }
      ],
      "source": [
        "x1 = 1\n",
        "y1 = 7\n",
        "x2 = 2\n",
        "y2 = 10\n",
        "\n",
        "slope = (y2 - y1) / (x2 - x1)\n",
        "\n",
        "print(\"slope = \", slope)"
      ]
    },
    {
      "cell_type": "markdown",
      "metadata": {
        "id": "QVaWF-Yk6kYJ"
      },
      "source": [
        "<br>\n",
        "<br>\n",
        "<br>\n",
        "Next, developing equations...\n",
        "<br>\n",
        "<br>\n",
        "<br>"
      ]
    },
    {
      "cell_type": "code",
      "execution_count": 6,
      "metadata": {},
      "outputs": [
        {
          "name": "stdout",
          "output_type": "stream",
          "text": [
            "slope =  3.0\n",
            "y-intercept =  4.0\n",
            "x1 = 1 y1 =  7 x2 =  2 y2 =  10\n",
            "y =  3.0 x +  4.0\n"
          ]
        }
      ],
      "source": [
        "x1 = 1\n",
        "y1 = 7\n",
        "x2 = 2\n",
        "y2 = 10\n",
        "\n",
        "# The slope is \"m\"\n",
        "m = (y2 - y1) / (x2 - x1)\n",
        "\n",
        "# The y-intercept is \"b\"\n",
        "\n",
        "b = y1 - m * x1\n",
        "\n",
        "print(\"slope = \", m)\n",
        "\n",
        "print(\"y-intercept = \", b)\n",
        "print(\"x1 =\", x1 , \"y1 = \", y1, \"x2 = \", x2 , \"y2 = \", y2)\n",
        "\n",
        "# The full equation\n",
        "print(\"y = \", m, \"x + \", b)"
      ]
    },
    {
      "cell_type": "code",
      "execution_count": null,
      "metadata": {
        "colab": {
          "base_uri": "https://localhost:8080/"
        },
        "id": "CKVgsCTmKjyw",
        "outputId": "6a74166a-ac9d-4d24-cc50-15fbdbfd0378"
      },
      "outputs": [
        {
          "name": "stdout",
          "output_type": "stream",
          "text": [
            "y =  -0.06506849315068493 x +  125.12328767123287\n"
          ]
        }
      ],
      "source": [
        "x1 = 632 #1\n",
        "y1 = 84 #7\n",
        "x2 = 1800 #2\n",
        "y2 = 8 #10\n",
        "\n",
        "# The slope is \"m\"\n",
        "m = (y2 - y1) / (x2 - x1)\n",
        "\n",
        "# The y intercept is \"b\"\n",
        "b = y1 - m*x1\n",
        "\n",
        "# The full equation\n",
        "print(\"y = \", m, \"x + \", b)\n"
      ]
    },
    {
      "cell_type": "markdown",
      "metadata": {
        "id": "XxRKIPpM9RsJ"
      },
      "source": [
        "Also display the graph"
      ]
    },
    {
      "cell_type": "code",
      "execution_count": 18,
      "metadata": {
        "colab": {
          "base_uri": "https://localhost:8080/",
          "height": 287
        },
        "id": "4gn7sGDENUZr",
        "outputId": "b51a57a7-53b3-43b8-da1a-9aff93029048"
      },
      "outputs": [
        {
          "name": "stdout",
          "output_type": "stream",
          "text": [
            "y =  1.0769230769230769 x +  2.769230769230769\n"
          ]
        },
        {
          "data": {
            "image/png": "[encoded data removed]",
            "text/plain": [
              "<Figure size 432x288 with 1 Axes>"
            ]
          },
          "metadata": {},
          "output_type": "display_data"
        }
      ],
      "source": [
        "import matplotlib.pyplot as plt\n",
        "import seaborn as sns\n",
        "sns.set()\n",
        "\n",
        "x1 = 3\n",
        "y1 = 6\n",
        "x2 = 16\n",
        "y2 = 20\n",
        "\n",
        "# Develop the equation y = mx + b\n",
        "m = (y2 - y1) / (x2 - x1)\n",
        "b = y1 - m*x1\n",
        "print(\"y = \", m, \"x + \", b)\n",
        "\n",
        "# For the graph\n",
        "xmin = -10\n",
        "xmax = 10\n",
        "ymin = -10\n",
        "ymax = 10\n",
        "\n",
        "# For the line on the graph\n",
        "y3 = m*xmin + b \n",
        "y4 = m*xmax + b \n",
        "\n",
        "# Basic setup for the graph\n",
        "fig, ax = plt.subplots()\n",
        "plt.axis([xmin,xmax,ymin,ymax]) # window size\n",
        "plt.plot([xmin,xmax],[0,0],'b') # blue x axis\n",
        "plt.plot([0,0],[ymin,ymax], 'b') # blue y axis\n",
        "\n",
        "# Plot the linear function as a red line\n",
        "plt.plot([xmin,xmax],[y3,y4],'r')\n",
        "\n",
        "plt.show()\n"
      ]
    },
    {
      "cell_type": "code",
      "execution_count": 22,
      "metadata": {
        "id": "rf0SoGGlf_HJ"
      },
      "outputs": [
        {
          "name": "stdout",
          "output_type": "stream",
          "text": [
            "y =  10.5 x +  55.0\n"
          ]
        },
        {
          "data": {
            "image/png": "[encoded data removed]",
            "text/plain": [
              "<Figure size 432x288 with 1 Axes>"
            ]
          },
          "metadata": {},
          "output_type": "display_data"
        }
      ],
      "source": [
        "import numpy as np\n",
        "\n",
        "x1 = 0\n",
        "y1 = 55\n",
        "x2 = 2\n",
        "y2 = 76\n",
        "\n",
        "# Develop the equation y = mx + b\n",
        "m = (y2 - y1) / (x2 - x1)\n",
        "b = y1 - m*x1\n",
        "print(\"y = \", m, \"x + \", b)\n",
        "\n",
        "# For the graph\n",
        "xmin = 0\n",
        "xmax = 10\n",
        "ymin = 0\n",
        "ymax = 150\n",
        "\n",
        "# For the line on the graph\n",
        "y3 = m*xmin + b\n",
        "y4 = m*xmax + b\n",
        "\n",
        "#Basic setup for the graph\n",
        "fig, ax = plt.subplots()\n",
        "plt.axis([xmin,xmax,ymin,ymax]) # window size\n",
        "plt.plot([xmin,xmax],[0,0],'b') # blue x axis\n",
        "plt.plot([0,0],[ymin,ymax], 'b') # blue y axis\n",
        "\n",
        "# Add details to the graph\n",
        "ax.set_xlabel('time')\n",
        "ax.set_ylabel('population')\n",
        "ax.grid(True, which='both')\n",
        "\n",
        "# ax.set_xticks(np.arange(xmin, xmax, 2))\n",
        "# ax.set_yticks(np.arange(ymin, ymax, 2))\n",
        "\n",
        "# Plot the linear function as a red line\n",
        "plt.plot([xmin,xmax],[y3,y4],'r')\n",
        "\n",
        "plt.show()"
      ]
    },
    {
      "cell_type": "code",
      "execution_count": 25,
      "metadata": {},
      "outputs": [
        {
          "name": "stdout",
          "output_type": "stream",
          "text": [
            "y =  -50.0 x +  875.0\n",
            "625\n"
          ]
        },
        {
          "data": {
            "image/png": "[encoded data removed]",
            "text/plain": [
              "<Figure size 432x288 with 1 Axes>"
            ]
          },
          "metadata": {},
          "output_type": "display_data"
        }
      ],
      "source": [
        "import numpy as np\n",
        "\n",
        "x1 = 0\n",
        "y1 = 875\n",
        "x2 = 1\n",
        "y2 = 825\n",
        "\n",
        "# Develop the equation y = mx + b\n",
        "m = (y2 - y1) / (x2 - x1)\n",
        "b = y1 - m*x1\n",
        "print(\"y = \", m, \"x + \", b)\n",
        "print(-50*5 + 875)\n",
        "\n",
        "\n",
        "# For the graph\n",
        "xmin = 0\n",
        "xmax = 10\n",
        "ymin = 0\n",
        "ymax = 900\n",
        "\n",
        "# For the line on the graph\n",
        "y3 = m*xmin + b\n",
        "y4 = m*xmax + b\n",
        "\n",
        "#Basic setup for the graph\n",
        "fig, ax = plt.subplots()\n",
        "plt.axis([xmin,xmax,ymin,ymax]) # window size\n",
        "plt.plot([xmin,xmax],[0,0],'b') # blue x axis\n",
        "plt.plot([0,0],[ymin,ymax], 'b') # blue y axis\n",
        "\n",
        "# Add details to the graph\n",
        "ax.set_xlabel('time')\n",
        "ax.set_ylabel('cases')\n",
        "ax.grid(True, which='both')\n",
        "\n",
        "# ax.set_xticks(np.arange(xmin, xmax, 2))\n",
        "# ax.set_yticks(np.arange(ymin, ymax, 2))\n",
        "\n",
        "# Plot the linear function as a red line\n",
        "plt.plot([xmin,xmax],[y3,y4],'r')\n",
        "\n",
        "plt.show()"
      ]
    },
    {
      "cell_type": "code",
      "execution_count": 26,
      "metadata": {},
      "outputs": [
        {
          "name": "stdout",
          "output_type": "stream",
          "text": [
            "x =  35/2\n"
          ]
        },
        {
          "data": {
            "text/latex": [
              "$\\displaystyle - 25 \\cdot \\left(2 x - 35\\right)$"
            ],
            "text/plain": [
              "-25*(2*x - 35)"
            ]
          },
          "execution_count": 26,
          "metadata": {},
          "output_type": "execute_result"
        }
      ],
      "source": [
        "import sympy\n",
        "from sympy import symbols\n",
        "from sympy.solvers import solve\n",
        "\n",
        "x = symbols('x')\n",
        "\n",
        "eq = 875 - 50*x\n",
        "\n",
        "solution = solve(eq, x)\n",
        "for s in solution:\n",
        "    print(\"x = \", s)\n",
        "\n",
        "sympy.factor(eq)\n"
      ]
    },
    {
      "cell_type": "code",
      "execution_count": 27,
      "metadata": {},
      "outputs": [
        {
          "name": "stdout",
          "output_type": "stream",
          "text": [
            "y =  -50.0 x +  875.0\n"
          ]
        },
        {
          "data": {
            "image/png": "[encoded data removed]",
            "text/plain": [
              "<Figure size 432x288 with 1 Axes>"
            ]
          },
          "metadata": {},
          "output_type": "display_data"
        }
      ],
      "source": [
        "import numpy as np\n",
        "\n",
        "x1 = 0\n",
        "y1 = 875\n",
        "x2 = 1\n",
        "y2 = 825\n",
        "\n",
        "# Develop the equation y = mx + b\n",
        "m = (y2 - y1) / (x2 - x1)\n",
        "b = y1 - m*x1\n",
        "print(\"y = \", m, \"x + \", b)\n",
        "\n",
        "\n",
        "# For the graph\n",
        "xmin = 0\n",
        "xmax = 18\n",
        "ymin = 0\n",
        "ymax = 900\n",
        "\n",
        "# For the line on the graph\n",
        "y3 = m*xmin + b\n",
        "y4 = m*xmax + b\n",
        "\n",
        "#Basic setup for the graph\n",
        "fig, ax = plt.subplots()\n",
        "plt.axis([xmin,xmax,ymin,ymax]) # window size\n",
        "plt.plot([xmin,xmax],[0,0],'b') # blue x axis\n",
        "plt.plot([0,0],[ymin,ymax], 'b') # blue y axis\n",
        "\n",
        "# Add details to the graph\n",
        "ax.set_xlabel('time')\n",
        "ax.set_ylabel('cases')\n",
        "ax.grid(True, which='both')\n",
        "\n",
        "# ax.set_xticks(np.arange(xmin, xmax, 2))\n",
        "# ax.set_yticks(np.arange(ymin, ymax, 2))\n",
        "\n",
        "# Plot the linear function as a red line\n",
        "plt.plot([xmin,xmax],[y3,y4],'r')\n",
        "\n",
        "plt.show()"
      ]
    },
    {
      "cell_type": "code",
      "execution_count": 35,
      "metadata": {},
      "outputs": [
        {
          "name": "stdout",
          "output_type": "stream",
          "text": [
            "y =  -0.3 x +  11.5\n"
          ]
        },
        {
          "data": {
            "image/png": "[encoded data removed]",
            "text/plain": [
              "<Figure size 720x360 with 1 Axes>"
            ]
          },
          "metadata": {},
          "output_type": "display_data"
        }
      ],
      "source": [
        "import numpy as np\n",
        "\n",
        "x1 = 5\n",
        "y1 = 10\n",
        "x2 = 25\n",
        "y2 = 4\n",
        "\n",
        "# Develop the equation y = mx + b\n",
        "m = (y2 - y1) / (x2 - x1)\n",
        "b = y1 - m*x1\n",
        "print(\"y = \", m, \"x + \", b)\n",
        "\n",
        "\n",
        "# For the graph\n",
        "xmin = 0\n",
        "xmax = 50\n",
        "ymin = 0\n",
        "ymax = 15\n",
        "\n",
        "# For the line on the graph\n",
        "y3 = m*xmin + b\n",
        "y4 = m*xmax + b\n",
        "\n",
        "#Basic setup for the graph\n",
        "fig, ax = plt.subplots(figsize=(10, 5))\n",
        "plt.axis([xmin,xmax,ymin,ymax]) # window size\n",
        "plt.plot([xmin,xmax],[0,0],'b') # blue x axis\n",
        "plt.plot([0,0],[ymin,ymax], 'b') # blue y axis\n",
        "\n",
        "# Add details to the graph\n",
        "ax.set_xlabel('time')\n",
        "ax.set_ylabel('Profit')\n",
        "ax.grid(True, which='both')\n",
        "\n",
        "ax.set_xticks(np.arange(xmin, xmax, 2))\n",
        "ax.set_yticks(np.arange(ymin, ymax, 1))\n",
        "\n",
        "# Plot the linear function as a red line\n",
        "plt.plot([xmin,xmax],[y3,y4],'r')\n",
        "\n",
        "plt.show()"
      ]
    },
    {
      "cell_type": "code",
      "execution_count": 37,
      "metadata": {},
      "outputs": [
        {
          "name": "stdout",
          "output_type": "stream",
          "text": [
            "y =  100.0 x +  1700.0\n"
          ]
        },
        {
          "data": {
            "image/png": "[encoded data removed]",
            "text/plain": [
              "<Figure size 720x360 with 1 Axes>"
            ]
          },
          "metadata": {},
          "output_type": "display_data"
        }
      ],
      "source": [
        "import numpy as np\n",
        "\n",
        "x1 = 0\n",
        "y1 = 1700\n",
        "x2 = 8\n",
        "y2 = 2500\n",
        "\n",
        "# Develop the equation y = mx + b\n",
        "m = (y2 - y1) / (x2 - x1)\n",
        "b = y1 - m*x1\n",
        "print(\"y = \", m, \"x + \", b)\n",
        "\n",
        "\n",
        "# For the graph\n",
        "xmin = 0\n",
        "xmax = 10\n",
        "ymin = 0\n",
        "ymax = 3000\n",
        "\n",
        "# For the line on the graph\n",
        "y3 = m*xmin + b\n",
        "y4 = m*xmax + b\n",
        "\n",
        "#Basic setup for the graph\n",
        "fig, ax = plt.subplots(figsize=(10, 5))\n",
        "plt.axis([xmin,xmax,ymin,ymax]) # window size\n",
        "plt.plot([xmin,xmax],[0,0],'b') # blue x axis\n",
        "plt.plot([0,0],[ymin,ymax], 'b') # blue y axis\n",
        "\n",
        "# Add details to the graph\n",
        "ax.set_xlabel('time')\n",
        "ax.set_ylabel('population')\n",
        "ax.grid(True, which='both')\n",
        "\n",
        "# ax.set_xticks(np.arange(xmin, xmax, 2))\n",
        "# ax.set_yticks(np.arange(ymin, ymax, 1))\n",
        "\n",
        "# Plot the linear function as a red line\n",
        "plt.plot([xmin,xmax],[y3,y4],'r')\n",
        "\n",
        "plt.show()"
      ]
    },
    {
      "cell_type": "code",
      "execution_count": 39,
      "metadata": {},
      "outputs": [
        {
          "name": "stdout",
          "output_type": "stream",
          "text": [
            "x =  25\n"
          ]
        }
      ],
      "source": [
        "import sympy\n",
        "from sympy import symbols\n",
        "from sympy.solvers import solve\n",
        "\n",
        "x = symbols('x')\n",
        "\n",
        "eq = 2500 - 100*x\n",
        "\n",
        "solution = solve(eq, x)\n",
        "for s in solution:\n",
        "    print(\"x = \", s)\n"
      ]
    },
    {
      "cell_type": "code",
      "execution_count": 40,
      "metadata": {},
      "outputs": [
        {
          "name": "stdout",
          "output_type": "stream",
          "text": [
            "y =  0.325 x +  0.0\n"
          ]
        },
        {
          "data": {
            "image/png": "[encoded data removed]",
            "text/plain": [
              "<Figure size 720x360 with 1 Axes>"
            ]
          },
          "metadata": {},
          "output_type": "display_data"
        }
      ],
      "source": [
        "import numpy as np\n",
        "\n",
        "x1 = 0\n",
        "y1 = 0\n",
        "x2 = 40\n",
        "y2 = 13\n",
        "\n",
        "# Develop the equation y = mx + b\n",
        "m = (y2 - y1) / (x2 - x1)\n",
        "b = y1 - m*x1\n",
        "print(\"y = \", m, \"x + \", b)\n",
        "\n",
        "\n",
        "# For the graph\n",
        "xmin = 0\n",
        "xmax = 100\n",
        "ymin = 0\n",
        "ymax = 50\n",
        "\n",
        "# For the line on the graph\n",
        "y3 = m*xmin + b\n",
        "y4 = m*xmax + b\n",
        "\n",
        "#Basic setup for the graph\n",
        "fig, ax = plt.subplots(figsize=(10, 5))\n",
        "plt.axis([xmin,xmax,ymin,ymax]) # window size\n",
        "plt.plot([xmin,xmax],[0,0],'b') # blue x axis\n",
        "plt.plot([0,0],[ymin,ymax], 'b') # blue y axis\n",
        "\n",
        "# Add details to the graph\n",
        "ax.set_xlabel('Thousands')\n",
        "ax.set_ylabel('Tones')\n",
        "ax.grid(True, which='both')\n",
        "\n",
        "# ax.set_xticks(np.arange(xmin, xmax, 2))\n",
        "# ax.set_yticks(np.arange(ymin, ymax, 1))\n",
        "\n",
        "# Plot the linear function as a red line\n",
        "plt.plot([xmin,xmax],[y3,y4],'r')\n",
        "\n",
        "plt.show()"
      ]
    },
    {
      "cell_type": "code",
      "execution_count": 49,
      "metadata": {},
      "outputs": [
        {
          "name": "stdout",
          "output_type": "stream",
          "text": [
            "x =  0\n",
            "x =  6\n"
          ]
        }
      ],
      "source": [
        "import sympy\n",
        "from sympy import symbols\n",
        "from sympy.solvers import solve\n",
        "\n",
        "x = symbols('x')\n",
        "\n",
        "eq = -16*x**2 + 96*x\n",
        "\n",
        "solution = solve(eq, x)\n",
        "for s in solution:\n",
        "    print(\"x = \", s)\n"
      ]
    },
    {
      "cell_type": "code",
      "execution_count": 50,
      "metadata": {},
      "outputs": [
        {
          "name": "stdout",
          "output_type": "stream",
          "text": [
            "x =  100\n"
          ]
        }
      ],
      "source": [
        "import sympy\n",
        "from sympy import symbols\n",
        "from sympy.solvers import solve\n",
        "\n",
        "x = symbols('x')\n",
        "\n",
        "eq = 10*x - 1000\n",
        "\n",
        "solution = solve(eq, x)\n",
        "for s in solution:\n",
        "    print(\"x = \", s)\n"
      ]
    },
    {
      "cell_type": "code",
      "execution_count": null,
      "metadata": {},
      "outputs": [],
      "source": []
    }
  ],
  "metadata": {
    "colab": {
      "authorship_tag": "ABX9TyOVRfR3KiJySdIydXFQbyUE",
      "collapsed_sections": [],
      "include_colab_link": true,
      "name": "Week_05 - code for slope intercept.ipynb",
      "provenance": []
    },
    "kernelspec": {
      "display_name": "Python 3",
      "name": "python3"
    },
    "language_info": {
      "codemirror_mode": {
        "name": "ipython",
        "version": 3
      },
      "file_extension": ".py",
      "mimetype": "text/x-python",
      "name": "python",
      "nbconvert_exporter": "python",
      "pygments_lexer": "ipython3",
      "version": "3.8.10"
    }
  },
  "nbformat": 4,
  "nbformat_minor": 0
}
