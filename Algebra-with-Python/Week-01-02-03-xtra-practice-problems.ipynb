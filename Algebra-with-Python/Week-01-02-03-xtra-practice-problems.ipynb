{
  "cells": [
    {
      "attachments": {},
      "cell_type": "markdown",
      "metadata": {
        "colab_type": "text",
        "id": "view-in-github"
      },
      "source": [
        "<a href=\"https://colab.research.google.com/github/edatfreecodecamp/python-math/blob/main/week-01-02-03-xtra-practice-problems.ipynb\" target=\"_parent\"><img src=\"https://colab.research.google.com/assets/colab-badge.svg\" alt=\"Open In Colab\"/></a>"
      ]
    },
    {
      "attachments": {},
      "cell_type": "markdown",
      "metadata": {
        "id": "YV7b2nQOEf95"
      },
      "source": [
        "Run this first - to define functions to present random math problems, ask user to solve for x, and test input. Individual code below. All functions here:"
      ]
    },
    {
      "cell_type": "code",
      "execution_count": null,
      "metadata": {
        "colab": {
          "base_uri": "https://localhost:8080/"
        },
        "id": "2AQz_KCLEdKm",
        "outputId": "944967e8-277b-46c6-93c1-d2d4ceba461c"
      },
      "outputs": [
        {
          "name": "stdout",
          "output_type": "stream",
          "text": [
            "Functions loaded\n"
          ]
        }
      ],
      "source": [
        "# converts string input (even fractions) to float\n",
        "def string_frac(in_string):\n",
        "    if \"/\" in in_string:\n",
        "        nd = in_string.split(\"/\")\n",
        "        n = float(nd[0])\n",
        "        d = float(nd[1])\n",
        "        ans = n/d\n",
        "        return ans\n",
        "    else:\n",
        "        ans = float(in_string)\n",
        "        return ans\n",
        "\n",
        "\n",
        "# Simplest one-step addition\n",
        "def one_step_add():\n",
        "    import random\n",
        "    # Display problem\n",
        "    a = random.randint(-4,10)\n",
        "    b = random.randint(2,24)\n",
        "    print(\"x + \", a, \" = \", b)\n",
        "    ans = float(input(\"x = \"))\n",
        "    answer = b-a\n",
        "    # Test input\n",
        "    if ans==answer:\n",
        "        print(\"Correct! \\n\")\n",
        "    else:\n",
        "        print(\"Try again\")\n",
        "        print(\"The correct answer is \", answer, \"\\n\")\n",
        "\n",
        "\n",
        "# One-step additon with negaive numbers\n",
        "def one_step_subtract():\n",
        "    import random\n",
        "    a = random.randint(-19,-1)\n",
        "    b = random.randint(2,24)\n",
        "    print(a, \" + x = \", b)\n",
        "    ans = float(input(\"x = \"))\n",
        "    # test\n",
        "    answer = b-a\n",
        "    if ans==answer:\n",
        "        print(\"Correct! \\n\")\n",
        "    else:\n",
        "        print(\"Try again\")\n",
        "        print(\"The correct answer is \", answer, \"\\n\")\n",
        "\n",
        "# One-step multiply\n",
        "def one_step_mult():\n",
        "    # Uses string_frac(<input string>)\n",
        "    import random\n",
        "    a = random.randint(1,11)\n",
        "    b = random.randint(2,24)\n",
        "    print(a, \"x = \", b)\n",
        "    ans_in = (input(\"x = \"))\n",
        "    answer = b/a\n",
        "    # test\n",
        "    if string_frac(ans_in)==answer:\n",
        "        print(\"Correct! \\n\")\n",
        "    else:\n",
        "        print(\"Try again\")\n",
        "        print(\"The correct answer is \", answer, \"\\n\")\n",
        "\n",
        "\n",
        "# One-step divide\n",
        "def one_step_div():\n",
        "    import random\n",
        "    a = random.randint(1,11)\n",
        "    b = random.randint(2,24)\n",
        "    print(\"x/\", a, \" = \", b)\n",
        "    ans = float(input(\"x = \"))\n",
        "    answer = b*a\n",
        "    # test\n",
        "    if ans==answer:\n",
        "        print(\"Correct! \\n\")\n",
        "    else:\n",
        "        print(\"Try again\")\n",
        "        print(\"The correct answer is \", answer, \"\\n\")\n",
        "\n",
        "\n",
        "# Two-step problems\n",
        "def two_step():\n",
        "    import random\n",
        "    # Uses string_frac()\n",
        "    a = random.randint(1,11)\n",
        "    b = random.randint(-7,12)\n",
        "    c = random.randint(2,36)\n",
        "    print(a, \"x + \", b, \" = \", c)\n",
        "    print(\"Round answer to two decimal places\")\n",
        "    ans_in = input(\"x = \")\n",
        "    answer = (c-b)/a\n",
        "    # test\n",
        "    if round(string_frac(ans_in),3)==round(answer,3):\n",
        "        print(\"Correct! \\n\")\n",
        "    else:\n",
        "        print(\"Try again\")\n",
        "        print(\"The correct answer is \", answer, \"\\n\")\n",
        "\n",
        "\n",
        "# Proportions - unknown numerator\n",
        "def proportions_n():\n",
        "    import random\n",
        "    # Uses string_frac() function\n",
        "    n1 = random.randint(1,21)\n",
        "    d1 = random.randint(1,21)\n",
        "    n2 = \"x\"\n",
        "    d2 = random.randint(1,21)\n",
        "    print(n1, \"\\t\\t\", n2)\n",
        "    print(\"--- \\t = \\t ---\")\n",
        "    print(d1, \"\\t\\t\", d2)\n",
        "    print(\" \")\n",
        "    ans_in = input(\"x = \")\n",
        "    answer = d2*n1/d1\n",
        "    if string_frac(ans_in)==answer:\n",
        "        print(\"Correct! \\n\")\n",
        "    else:\n",
        "        print(\"Try again\")\n",
        "\n",
        "\n",
        "# Proportions - unknown denominator\n",
        "def proportions_d():\n",
        "    import random\n",
        "    # Uses string_frac() function\n",
        "    n1 = random.randint(1,21)\n",
        "    d1 = random.randint(1,21)\n",
        "    n2 = random.randint(1,21)\n",
        "    d2 = \"x\"\n",
        "    print(n1, \"\\t\\t\", n2)\n",
        "    print(\"--- \\t = \\t ---\")\n",
        "    print(d1, \"\\t\\t\", d2)\n",
        "    print(\" \")\n",
        "    ans_in = input(\"x = \")\n",
        "    answer = d1*n2/n1\n",
        "    if string_frac(ans_in)==answer:\n",
        "        print(\"Correct! \\n\")\n",
        "    else:\n",
        "        print(\"Try again\")\n",
        "\n",
        "\n",
        "# Decimal to fraction\n",
        "def dec_to_frac_test():\n",
        "    import random\n",
        "    import math\n",
        "    # Uses string_frac()\n",
        "    print(\"Convert the following decimal to a fraction\")\n",
        "    print(\"Just use the / to write your fraction\")\n",
        "    places = random.randint(1,4)\n",
        "    decimal = round(random.random(), places)\n",
        "    print(decimal)\n",
        "    exp = math.floor(math.log(decimal,10))\n",
        "    d = 10**exp\n",
        "    n = decimal*d\n",
        "    ans_in = input(\"Fraction: \")\n",
        "    if string_frac(ans_in)==decimal:\n",
        "        print(\"Correct! \\n\")\n",
        "    else:\n",
        "        print(\"Try again\")\n",
        "        print(\"The answer is \", n, \"/\", d)\n",
        "\n",
        "\n",
        "# Fraction to percent\n",
        "def frac_to_perc_test():\n",
        "    import random\n",
        "    print(\"Convert the following fraction to a percent\")\n",
        "    n = round(random.randint(1,99))\n",
        "    d = round(random.randint(2,200))\n",
        "    print(n, \"/\", d)\n",
        "    percent = round(n/d*100,2)\n",
        "    print(\"Round your answer to two decimal places\")\n",
        "    ans = float(input(\"Percent: \"))\n",
        "    if ans==percent:\n",
        "        print(\"Correct!\")\n",
        "    else:\n",
        "        print(\"Try again\")\n",
        "        print(\"The answer is \", percent)\n",
        "\n",
        "\n",
        "print(\"Functions loaded\")"
      ]
    },
    {
      "attachments": {},
      "cell_type": "markdown",
      "metadata": {
        "id": "GL3_OqNaAGNo"
      },
      "source": [
        "**test**"
      ]
    },
    {
      "cell_type": "code",
      "execution_count": null,
      "metadata": {
        "id": "dzQ2VK1eLrPd"
      },
      "outputs": [],
      "source": [
        "# test loop\n",
        "for a in range(3):\n",
        "    frac_to_perc_test()\n",
        "    print(\" \")\n",
        "\n"
      ]
    },
    {
      "attachments": {},
      "cell_type": "markdown",
      "metadata": {
        "id": "6ndr4QBKK3Jr"
      },
      "source": [
        "**One-step problems**"
      ]
    },
    {
      "cell_type": "code",
      "execution_count": 8,
      "metadata": {
        "id": "voYzHh8yK0kU"
      },
      "outputs": [
        {
          "name": "stdout",
          "output_type": "stream",
          "text": [
            "x +  -1  =  12\n"
          ]
        }
      ],
      "source": [
        "import random\n",
        "\n",
        "a = random.randint(-4,10)\n",
        "b = random.randint(2,24)\n",
        "\n",
        "print(\"x + \", a, \" = \", b)\n",
        "ans = float(input(\"x = \"))\n",
        "\n",
        "# test\n",
        "correct = 0\n",
        "if ans==(b-a):\n",
        "    correct = correct+1\n",
        "else:\n",
        "    print(\"Try again\")\n",
        "\n",
        "\n"
      ]
    },
    {
      "attachments": {},
      "cell_type": "markdown",
      "metadata": {
        "id": "I-jVIL4TOjfN"
      },
      "source": [
        "**More one-step problems**"
      ]
    },
    {
      "cell_type": "code",
      "execution_count": null,
      "metadata": {
        "id": "XCKWNnoVLKt3"
      },
      "outputs": [],
      "source": [
        "import random\n",
        "\n",
        "a = random.randint(-4,10)\n",
        "b = random.randint(2,24)\n",
        "\n",
        "print(a, \" + x = \", b)\n",
        "ans = float(input(\"x = \"))\n",
        "\n",
        "# test\n",
        "correct = 0\n",
        "if ans==(b-a):\n",
        "    correct = correct+1\n",
        "else:\n",
        "    print(\"Try again\")\n",
        "\n",
        "\n"
      ]
    },
    {
      "attachments": {},
      "cell_type": "markdown",
      "metadata": {
        "id": "5yLPKmTNPFAH"
      },
      "source": [
        "One-step multiply"
      ]
    },
    {
      "cell_type": "code",
      "execution_count": null,
      "metadata": {
        "id": "Wlr13LSvPHlY"
      },
      "outputs": [],
      "source": [
        "import random\n",
        "\n",
        "a = random.randint(-4,10)\n",
        "b = random.randint(2,24)\n",
        "\n",
        "print(a, \"x = \", b)\n",
        "ans = float(input(\"x = \"))\n",
        "\n",
        "# test\n",
        "correct = 0\n",
        "if ans==(b/a):\n",
        "    correct = correct+1\n",
        "else:\n",
        "    print(\"Try again\")\n"
      ]
    },
    {
      "attachments": {},
      "cell_type": "markdown",
      "metadata": {
        "id": "7HJeuXMiPlC7"
      },
      "source": [
        "One-step divide"
      ]
    },
    {
      "cell_type": "code",
      "execution_count": null,
      "metadata": {
        "id": "YrtgJUDmPnTp"
      },
      "outputs": [],
      "source": [
        "import random\n",
        "\n",
        "a = random.randint(-4,10)\n",
        "b = random.randint(2,24)\n",
        "\n",
        "print(\"x/\", a, \" = \", b)\n",
        "ans = float(input(\"x = \"))\n",
        "\n",
        "# test\n",
        "correct = 0\n",
        "if ans==(b/a):\n",
        "    correct = correct+1\n",
        "else:\n",
        "    print(\"Try again\")\n"
      ]
    },
    {
      "attachments": {},
      "cell_type": "markdown",
      "metadata": {
        "id": "4lhRJ177RD-y"
      },
      "source": [
        "Two-step"
      ]
    },
    {
      "cell_type": "code",
      "execution_count": null,
      "metadata": {
        "id": "v24IYtfwRJ-t"
      },
      "outputs": [],
      "source": [
        "import random\n",
        "\n",
        "a = random.randint(-7,11)\n",
        "b = random.randint(2,12)\n",
        "c = random.randint(2,36)\n",
        "\n",
        "print(a, \"x + \", b, \" = \", c)\n",
        "ans = float(input(\"x = \"))\n",
        "\n",
        "# test\n",
        "correct = 0\n",
        "if ans==((c-b)/a):\n",
        "    correct = correct+1\n",
        "else:\n",
        "    print(\"Try again\")\n"
      ]
    },
    {
      "attachments": {},
      "cell_type": "markdown",
      "metadata": {
        "id": "wSSx1nxwSwvx"
      },
      "source": [
        "Proportions 1"
      ]
    },
    {
      "cell_type": "code",
      "execution_count": null,
      "metadata": {
        "id": "sqU14lbyoZjH"
      },
      "outputs": [],
      "source": [
        "import random\n",
        "\n",
        "n1 = random.randint(1,21)\n",
        "d1 = random.randint(1,21)\n",
        "n2 = random.randint(1,21)\n",
        "d2 = \"x\"\n",
        "\n",
        "print(n1, \"\\t\\t\", n2)\n",
        "print(\"--- \\t = \\t ---\")\n",
        "print(d1, \"\\t\\t\", d2)\n",
        "print(\" \")\n",
        "ans = float(input(\"x = \"))\n",
        "answer = d1*n2/n1\n",
        "\n",
        "if ans==answer:\n",
        "    correct = correct + 1\n",
        "else:\n",
        "    print(\"Try again\")\n"
      ]
    },
    {
      "attachments": {},
      "cell_type": "markdown",
      "metadata": {
        "id": "nr46xqOZ0VfW"
      },
      "source": [
        "Proportions 2"
      ]
    },
    {
      "cell_type": "code",
      "execution_count": null,
      "metadata": {
        "colab": {
          "base_uri": "https://localhost:8080/"
        },
        "id": "7W6YSfylqh4k",
        "outputId": "0b98bb4a-8dd3-47af-9fa7-43b755b96013"
      },
      "outputs": [
        {
          "name": "stdout",
          "output_type": "stream",
          "text": [
            "3 \t\t x\n",
            "--- \t = \t ---\n",
            "18 \t\t 15\n",
            "x = 2.5\n",
            "Correct!\n"
          ]
        }
      ],
      "source": [
        "import random\n",
        "\n",
        "n1 = random.randint(1,21)\n",
        "d1 = random.randint(1,21)\n",
        "n2 = \"x\"\n",
        "d2 = random.randint(1,21)\n",
        "correct = 0\n",
        "\n",
        "print(n1, \"\\t\\t\", n2)\n",
        "print(\"--- \\t = \\t ---\")\n",
        "print(d1, \"\\t\\t\", d2)\n",
        "\n",
        "ans_in = input(\"x = \")\n",
        "\n",
        "# Uses string_frac() function\n",
        "\n",
        "answer = d2*n1/d1\n",
        "\n",
        "if string_frac(ans_in)==answer:\n",
        "    print(\"Correct!\")\n",
        "    correct = correct + 1\n",
        "else:\n",
        "    print(\"Try again\")\n"
      ]
    },
    {
      "cell_type": "code",
      "execution_count": null,
      "metadata": {
        "id": "jDTHzUg60ngI"
      },
      "outputs": [],
      "source": [
        "# Decimal to fraction\n",
        "import random\n",
        "# Uses string_frac()\n",
        "print(\"Convert the following decimal to a fraction\")\n",
        "print(\"Just use the / to write your fraction\")\n",
        "places = random.randint(1,4)\n",
        "decimal = round(random.random(), places)\n",
        "print(decimal)\n",
        "ans_in = input(\"Fraction: \")\n",
        "if string_frac(ans_in)==decimal:\n",
        "    print(\"Correct!\")\n",
        "else:\n",
        "    print(\"Try again\")\n",
        "\n"
      ]
    },
    {
      "cell_type": "code",
      "execution_count": null,
      "metadata": {
        "colab": {
          "base_uri": "https://localhost:8080/"
        },
        "id": "-B6MBV1K2EM1",
        "outputId": "ee7c5d54-b7bd-422e-e269-3091d246838a"
      },
      "outputs": [
        {
          "name": "stdout",
          "output_type": "stream",
          "text": [
            "Convert the following fraction to a percent\n",
            "56 / 185\n",
            "Round your answer to two decimal places\n",
            "Percent: 30.27\n",
            "Correct!\n"
          ]
        }
      ],
      "source": [
        "# Fraction to percent\n",
        "import random\n",
        "\n",
        "print(\"Convert the following fraction to a percent\")\n",
        "n = round(random.randint(1,99))\n",
        "d = round(random.randint(2,200))\n",
        "print(n, \"/\", d)\n",
        "percent = round(n/d*100,2)\n",
        "print(\"Round your answer to two decimal places\")\n",
        "ans = float(input(\"Percent: \"))\n",
        "if ans==percent:\n",
        "    print(\"Correct!\")\n",
        "else:\n",
        "    print(\"Try again\")\n",
        "\n"
      ]
    },
    {
      "cell_type": "code",
      "execution_count": null,
      "metadata": {
        "id": "nfMyL98C80UU"
      },
      "outputs": [],
      "source": []
    }
  ],
  "metadata": {
    "colab": {
      "authorship_tag": "ABX9TyMoA4QyggcH71vx9E9XstFo",
      "include_colab_link": true,
      "provenance": []
    },
    "kernelspec": {
      "display_name": "Python 3",
      "name": "python3"
    },
    "language_info": {
      "codemirror_mode": {
        "name": "ipython",
        "version": 3
      },
      "file_extension": ".py",
      "mimetype": "text/x-python",
      "name": "python",
      "nbconvert_exporter": "python",
      "pygments_lexer": "ipython3",
      "version": "3.8.10"
    }
  },
  "nbformat": 4,
  "nbformat_minor": 0
}
